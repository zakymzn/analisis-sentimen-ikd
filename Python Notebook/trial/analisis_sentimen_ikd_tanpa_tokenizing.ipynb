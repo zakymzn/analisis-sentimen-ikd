{
    "cells": [
        {
            "cell_type": "code",
            "execution_count": null,
            "metadata": {},
            "outputs": [],
            "source": [
                "import pandas as pd\n",
                "import numpy as np\n",
                "import string\n",
                "import re\n",
                "import matplotlib.pyplot as plt\n",
                "from nltk.sentiment.vader import SentimentIntensityAnalyzer\n",
                "from nltk.corpus import stopwords\n",
                "from nltk.tokenize import word_tokenize\n",
                "from Sastrawi.Stemmer.StemmerFactory import StemmerFactory\n",
                "from Sastrawi.StopWordRemover.StopWordRemoverFactory import StopWordRemoverFactory\n",
                "from sklearn.svm import SVC\n",
                "from sklearn.model_selection import train_test_split\n",
                "from sklearn.feature_extraction.text import CountVectorizer\n",
                "from sklearn.metrics import *\n",
                "from imblearn.over_sampling import SMOTE"
            ]
        },
        {
            "cell_type": "code",
            "execution_count": null,
            "metadata": {},
            "outputs": [],
            "source": [
                "df = pd.read_csv('../../Dataset/dataset_review_aplikasi_ikd.csv')\n",
                "df"
            ]
        },
        {
            "cell_type": "code",
            "execution_count": null,
            "metadata": {},
            "outputs": [],
            "source": [
                "df.info()"
            ]
        },
        {
            "cell_type": "code",
            "execution_count": null,
            "metadata": {},
            "outputs": [],
            "source": [
                "df = df.drop(columns=['reviewId', 'userName', 'userImage', 'thumbsUpCount', 'reviewCreatedVersion', 'at', 'replyContent', 'repliedAt', 'appVersion'])\n",
                "df"
            ]
        },
        {
            "cell_type": "code",
            "execution_count": null,
            "metadata": {},
            "outputs": [],
            "source": [
                "df.rename(columns={'score':'sentiment'}, inplace=True)\n",
                "df"
            ]
        },
        {
            "cell_type": "code",
            "execution_count": null,
            "metadata": {},
            "outputs": [],
            "source": [
                "print(\"0 = Negatif\")\n",
                "print(\"1 = Positif\")\n",
                "\n",
                "df.replace([1,2,3], 0, inplace=True)\n",
                "df.replace([4,5], 1, inplace=True)\n",
                "df"
            ]
        },
        {
            "cell_type": "code",
            "execution_count": null,
            "metadata": {},
            "outputs": [],
            "source": [
                "df.info()"
            ]
        },
        {
            "cell_type": "code",
            "execution_count": null,
            "metadata": {},
            "outputs": [],
            "source": [
                "# Case Folding\n",
                "def lower(text):\n",
                "    text = text.lower() # mengubah ke lower case\n",
                "    return text"
            ]
        },
        {
            "cell_type": "code",
            "execution_count": null,
            "metadata": {},
            "outputs": [],
            "source": [
                "df['content'] = df['content'].apply(lower)\n",
                "df"
            ]
        },
        {
            "cell_type": "code",
            "execution_count": null,
            "metadata": {},
            "outputs": [],
            "source": [
                "# Remove Punctuation & Number\n",
                "\n",
                "def remove_punctuation_and_number(text):\n",
                "    text = text.translate(str.maketrans(\"\",\"\",string.punctuation + string.digits))\n",
                "    return text"
            ]
        },
        {
            "cell_type": "code",
            "execution_count": null,
            "metadata": {},
            "outputs": [],
            "source": [
                "df['content'] = df['content'].apply(remove_punctuation_and_number)\n",
                "df"
            ]
        },
        {
            "cell_type": "code",
            "execution_count": null,
            "metadata": {},
            "outputs": [],
            "source": [
                "# Remove Whitespace\n",
                "def remove_whitespace(text):\n",
                "    correct = str(text)\n",
                "    correct = re.sub(r\"//t\",r\"\\t\", correct)\n",
                "    correct = re.sub(r\"( )\\1+\",r\"\\1\", correct)\n",
                "    correct = re.sub(r\"(\\n)\\1+\",r\"\\1\", correct)\n",
                "    correct = re.sub(r\"(\\r)\\1+\",r\"\\1\", correct)\n",
                "    correct = re.sub(r\"(\\t)\\1+\",r\"\\1\", correct)\n",
                "    return correct.strip()"
            ]
        },
        {
            "cell_type": "code",
            "execution_count": null,
            "metadata": {},
            "outputs": [],
            "source": [
                "df['content'] = df['content'].apply(remove_whitespace)\n",
                "df"
            ]
        },
        {
            "cell_type": "markdown",
            "metadata": {},
            "source": [
                "Perbaikan ejaan harus dilakukan sebelum proses stopwords"
            ]
        },
        {
            "cell_type": "code",
            "execution_count": null,
            "metadata": {},
            "outputs": [],
            "source": [
                "kamus_kata_tidak_baku = pd.read_csv(\"../../Dataset/Kamus Kata Tidak Baku/kamus-alay/colloquial-indonesian-lexicon.csv\")\n",
                "kamus_kata_tidak_baku.head()"
            ]
        },
        {
            "cell_type": "code",
            "execution_count": null,
            "metadata": {},
            "outputs": [],
            "source": [
                "# # Spell Checking\n",
                "# def spell_checking(text, nonformal_word):\n",
                "#     for index in text:\n",
                "#         index_nonformal = nonformal_word.slang==text[index]\n",
                "#         formal = list(set(nonformal_word[index_nonformal].formal))\n",
                "#         if len(formal) == 1:\n",
                "#             text[index] = formal[0]\n",
                "#     return text"
            ]
        },
        {
            "cell_type": "code",
            "execution_count": null,
            "metadata": {},
            "outputs": [],
            "source": [
                "# df['content'].apply(lambda text: spell_checking(text, kamus_kata_tidak_baku))"
            ]
        },
        {
            "cell_type": "code",
            "execution_count": null,
            "metadata": {},
            "outputs": [],
            "source": [
                "# Stopwords with NLTK\n",
                "stopword_nltk = stopwords.words('indonesian')\n",
                "\n",
                "def remove_stopwords_with_nltk(text):\n",
                "    text = ' '.join(word for word in text.split() if word not in stopword_nltk)\n",
                "    return text"
            ]
        },
        {
            "cell_type": "code",
            "execution_count": null,
            "metadata": {},
            "outputs": [],
            "source": [
                "# df['content'] = df['content'].apply(remove_stopwords_with_nltk)\n",
                "# df"
            ]
        },
        {
            "cell_type": "code",
            "execution_count": null,
            "metadata": {},
            "outputs": [],
            "source": [
                "# Stopwords with Sastrawi\n",
                "factory = StopWordRemoverFactory()\n",
                "stopword_sastrawi = factory.create_stop_word_remover()\n",
                "\n",
                "def remove_stopwords_with_sastrawi(text):\n",
                "    # for word in text:\n",
                "    #     word = stopword_sastrawi.remove(word)\n",
                "    text = ' '.join(word for word in text.split() if word not in stopword_sastrawi)\n",
                "    return text"
            ]
        },
        {
            "cell_type": "markdown",
            "metadata": {},
            "source": [
                "Membandingkan jumlah data kata untuk filtering stopword yang dimiliki oleh library NLTK dan Sastrawi"
            ]
        },
        {
            "cell_type": "code",
            "execution_count": null,
            "metadata": {},
            "outputs": [],
            "source": [
                "# Perbandingan Stopwords dari NLTK dan Sastrawi\n",
                "print(stopword_nltk)\n",
                "print(stopword_sastrawi)\n",
                "print(f\"Jumlah Stopword NLTK = {len(stopword_nltk)}\")\n",
                "print(f\"Jumlah Stopword Sastrawi = {len(stopword_sastrawi)}\")"
            ]
        },
        {
            "cell_type": "code",
            "execution_count": null,
            "metadata": {},
            "outputs": [],
            "source": [
                "df['content'] = df['content'].apply(remove_stopwords_with_sastrawi)\n",
                "df"
            ]
        },
        {
            "cell_type": "code",
            "execution_count": null,
            "metadata": {},
            "outputs": [],
            "source": [
                "# Stemming with Sastrawi\n",
                "factory = StemmerFactory()\n",
                "stemmer = factory.create_stemmer()\n",
                "\n",
                "def stemming(text):\n",
                "    text = ' '.join(stemmer.stem(token) for token in text)\n",
                "    return text"
            ]
        },
        {
            "cell_type": "code",
            "execution_count": null,
            "metadata": {},
            "outputs": [],
            "source": [
                "df['content'] = df['content'].apply(stemming)\n",
                "df"
            ]
        },
        {
            "cell_type": "code",
            "execution_count": null,
            "metadata": {},
            "outputs": [],
            "source": [
                "X = df['content']\n",
                "y = df['sentiment']"
            ]
        },
        {
            "cell_type": "code",
            "execution_count": null,
            "metadata": {},
            "outputs": [],
            "source": [
                "X_train, X_test, y_train, y_test = train_test_split(X, y, test_size=0.2, random_state=42)"
            ]
        },
        {
            "cell_type": "code",
            "execution_count": null,
            "metadata": {},
            "outputs": [],
            "source": [
                "count_vectorizer = CountVectorizer()\n",
                "X_train_cv = count_vectorizer.fit_transform(X_train)"
            ]
        },
        {
            "cell_type": "code",
            "execution_count": null,
            "metadata": {},
            "outputs": [],
            "source": [
                "model = SVC()\n",
                "model.fit(X_train_cv, y_train)"
            ]
        },
        {
            "cell_type": "code",
            "execution_count": null,
            "metadata": {},
            "outputs": [],
            "source": [
                "X_test_cv = count_vectorizer.transform(X_test)"
            ]
        },
        {
            "cell_type": "code",
            "execution_count": null,
            "metadata": {},
            "outputs": [],
            "source": [
                "y_pred = model.predict(X_test_cv)\n",
                "y_pred"
            ]
        },
        {
            "cell_type": "code",
            "execution_count": null,
            "metadata": {},
            "outputs": [],
            "source": [
                "training_accuracy = accuracy_score(y_train, model.predict(X_train_cv))\n",
                "test_accuracy = accuracy_score(y_test, model.predict(X_test_cv))\n",
                "print('Training accuracy :', training_accuracy)\n",
                "print('Test accuracy :', test_accuracy)\n",
                "print('Difference :', training_accuracy - test_accuracy)"
            ]
        },
        {
            "cell_type": "code",
            "execution_count": null,
            "metadata": {},
            "outputs": [],
            "source": [
                "cm = confusion_matrix(y_test, y_pred)\n",
                "disp = ConfusionMatrixDisplay(confusion_matrix=cm, display_labels=model.classes_)\n",
                "disp.plot()\n",
                "plt.show()"
            ]
        },
        {
            "cell_type": "code",
            "execution_count": null,
            "metadata": {},
            "outputs": [],
            "source": [
                "print(classification_report(y_test, y_pred, zero_division=0, digits=4))"
            ]
        }
    ],
    "metadata": {
        "kernelspec": {
            "display_name": "Python 3",
            "language": "python",
            "name": "python3"
        },
        "language_info": {
            "codemirror_mode": {
                "name": "ipython",
                "version": 3
            },
            "file_extension": ".py",
            "mimetype": "text/x-python",
            "name": "python",
            "nbconvert_exporter": "python",
            "pygments_lexer": "ipython3",
            "version": "3.12.2"
        }
    },
    "nbformat": 4,
    "nbformat_minor": 2
}