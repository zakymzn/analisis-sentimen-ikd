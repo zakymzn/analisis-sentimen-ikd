{
    "cells": [
        {
            "cell_type": "markdown",
            "metadata": {},
            "source": [
                "oleh Ma'mur Zaky Nurrokhman"
            ]
        },
        {
            "cell_type": "markdown",
            "metadata": {},
            "source": [
                "## Import Library"
            ]
        },
        {
            "cell_type": "code",
            "execution_count": 1,
            "metadata": {},
            "outputs": [
                {
                    "name": "stderr",
                    "output_type": "stream",
                    "text": [
                        "[nltk_data] Downloading collection 'all'\n",
                        "[nltk_data]    | \n",
                        "[nltk_data]    | Downloading package abc to\n",
                        "[nltk_data]    |     C:\\Users\\zakymzn\\AppData\\Roaming\\nltk_data...\n",
                        "[nltk_data]    |   Package abc is already up-to-date!\n",
                        "[nltk_data]    | Downloading package alpino to\n",
                        "[nltk_data]    |     C:\\Users\\zakymzn\\AppData\\Roaming\\nltk_data...\n",
                        "[nltk_data]    |   Package alpino is already up-to-date!\n",
                        "[nltk_data]    | Downloading package averaged_perceptron_tagger to\n",
                        "[nltk_data]    |     C:\\Users\\zakymzn\\AppData\\Roaming\\nltk_data...\n",
                        "[nltk_data]    |   Package averaged_perceptron_tagger is already up-\n",
                        "[nltk_data]    |       to-date!\n",
                        "[nltk_data]    | Downloading package averaged_perceptron_tagger_eng to\n",
                        "[nltk_data]    |     C:\\Users\\zakymzn\\AppData\\Roaming\\nltk_data...\n",
                        "[nltk_data]    |   Package averaged_perceptron_tagger_eng is already\n",
                        "[nltk_data]    |       up-to-date!\n",
                        "[nltk_data]    | Downloading package averaged_perceptron_tagger_ru to\n",
                        "[nltk_data]    |     C:\\Users\\zakymzn\\AppData\\Roaming\\nltk_data...\n",
                        "[nltk_data]    |   Package averaged_perceptron_tagger_ru is already\n",
                        "[nltk_data]    |       up-to-date!\n",
                        "[nltk_data]    | Downloading package averaged_perceptron_tagger_rus to\n",
                        "[nltk_data]    |     C:\\Users\\zakymzn\\AppData\\Roaming\\nltk_data...\n",
                        "[nltk_data]    |   Package averaged_perceptron_tagger_rus is already\n",
                        "[nltk_data]    |       up-to-date!\n",
                        "[nltk_data]    | Downloading package basque_grammars to\n",
                        "[nltk_data]    |     C:\\Users\\zakymzn\\AppData\\Roaming\\nltk_data...\n",
                        "[nltk_data]    |   Package basque_grammars is already up-to-date!\n",
                        "[nltk_data]    | Downloading package bcp47 to\n",
                        "[nltk_data]    |     C:\\Users\\zakymzn\\AppData\\Roaming\\nltk_data...\n",
                        "[nltk_data]    |   Package bcp47 is already up-to-date!\n",
                        "[nltk_data]    | Downloading package biocreative_ppi to\n",
                        "[nltk_data]    |     C:\\Users\\zakymzn\\AppData\\Roaming\\nltk_data...\n",
                        "[nltk_data]    |   Package biocreative_ppi is already up-to-date!\n",
                        "[nltk_data]    | Downloading package bllip_wsj_no_aux to\n",
                        "[nltk_data]    |     C:\\Users\\zakymzn\\AppData\\Roaming\\nltk_data...\n",
                        "[nltk_data]    |   Package bllip_wsj_no_aux is already up-to-date!\n",
                        "[nltk_data]    | Downloading package book_grammars to\n",
                        "[nltk_data]    |     C:\\Users\\zakymzn\\AppData\\Roaming\\nltk_data...\n",
                        "[nltk_data]    |   Package book_grammars is already up-to-date!\n",
                        "[nltk_data]    | Downloading package brown to\n",
                        "[nltk_data]    |     C:\\Users\\zakymzn\\AppData\\Roaming\\nltk_data...\n",
                        "[nltk_data]    |   Package brown is already up-to-date!\n",
                        "[nltk_data]    | Downloading package brown_tei to\n",
                        "[nltk_data]    |     C:\\Users\\zakymzn\\AppData\\Roaming\\nltk_data...\n",
                        "[nltk_data]    |   Package brown_tei is already up-to-date!\n",
                        "[nltk_data]    | Downloading package cess_cat to\n",
                        "[nltk_data]    |     C:\\Users\\zakymzn\\AppData\\Roaming\\nltk_data...\n",
                        "[nltk_data]    |   Package cess_cat is already up-to-date!\n",
                        "[nltk_data]    | Downloading package cess_esp to\n",
                        "[nltk_data]    |     C:\\Users\\zakymzn\\AppData\\Roaming\\nltk_data...\n",
                        "[nltk_data]    |   Package cess_esp is already up-to-date!\n",
                        "[nltk_data]    | Downloading package chat80 to\n",
                        "[nltk_data]    |     C:\\Users\\zakymzn\\AppData\\Roaming\\nltk_data...\n",
                        "[nltk_data]    |   Package chat80 is already up-to-date!\n",
                        "[nltk_data]    | Downloading package city_database to\n",
                        "[nltk_data]    |     C:\\Users\\zakymzn\\AppData\\Roaming\\nltk_data...\n",
                        "[nltk_data]    |   Package city_database is already up-to-date!\n",
                        "[nltk_data]    | Downloading package cmudict to\n",
                        "[nltk_data]    |     C:\\Users\\zakymzn\\AppData\\Roaming\\nltk_data...\n",
                        "[nltk_data]    |   Package cmudict is already up-to-date!\n",
                        "[nltk_data]    | Downloading package comparative_sentences to\n",
                        "[nltk_data]    |     C:\\Users\\zakymzn\\AppData\\Roaming\\nltk_data...\n",
                        "[nltk_data]    |   Package comparative_sentences is already up-to-\n",
                        "[nltk_data]    |       date!\n",
                        "[nltk_data]    | Downloading package comtrans to\n",
                        "[nltk_data]    |     C:\\Users\\zakymzn\\AppData\\Roaming\\nltk_data...\n",
                        "[nltk_data]    |   Package comtrans is already up-to-date!\n",
                        "[nltk_data]    | Downloading package conll2000 to\n",
                        "[nltk_data]    |     C:\\Users\\zakymzn\\AppData\\Roaming\\nltk_data...\n",
                        "[nltk_data]    |   Package conll2000 is already up-to-date!\n",
                        "[nltk_data]    | Downloading package conll2002 to\n",
                        "[nltk_data]    |     C:\\Users\\zakymzn\\AppData\\Roaming\\nltk_data...\n",
                        "[nltk_data]    |   Package conll2002 is already up-to-date!\n",
                        "[nltk_data]    | Downloading package conll2007 to\n",
                        "[nltk_data]    |     C:\\Users\\zakymzn\\AppData\\Roaming\\nltk_data...\n",
                        "[nltk_data]    |   Package conll2007 is already up-to-date!\n",
                        "[nltk_data]    | Downloading package crubadan to\n",
                        "[nltk_data]    |     C:\\Users\\zakymzn\\AppData\\Roaming\\nltk_data...\n",
                        "[nltk_data]    |   Package crubadan is already up-to-date!\n",
                        "[nltk_data]    | Downloading package dependency_treebank to\n",
                        "[nltk_data]    |     C:\\Users\\zakymzn\\AppData\\Roaming\\nltk_data...\n",
                        "[nltk_data]    |   Package dependency_treebank is already up-to-date!\n",
                        "[nltk_data]    | Downloading package dolch to\n",
                        "[nltk_data]    |     C:\\Users\\zakymzn\\AppData\\Roaming\\nltk_data...\n",
                        "[nltk_data]    |   Package dolch is already up-to-date!\n",
                        "[nltk_data]    | Downloading package europarl_raw to\n",
                        "[nltk_data]    |     C:\\Users\\zakymzn\\AppData\\Roaming\\nltk_data...\n",
                        "[nltk_data]    |   Package europarl_raw is already up-to-date!\n",
                        "[nltk_data]    | Downloading package extended_omw to\n",
                        "[nltk_data]    |     C:\\Users\\zakymzn\\AppData\\Roaming\\nltk_data...\n",
                        "[nltk_data]    |   Package extended_omw is already up-to-date!\n",
                        "[nltk_data]    | Downloading package floresta to\n",
                        "[nltk_data]    |     C:\\Users\\zakymzn\\AppData\\Roaming\\nltk_data...\n",
                        "[nltk_data]    |   Package floresta is already up-to-date!\n",
                        "[nltk_data]    | Downloading package framenet_v15 to\n",
                        "[nltk_data]    |     C:\\Users\\zakymzn\\AppData\\Roaming\\nltk_data...\n",
                        "[nltk_data]    |   Package framenet_v15 is already up-to-date!\n",
                        "[nltk_data]    | Downloading package framenet_v17 to\n",
                        "[nltk_data]    |     C:\\Users\\zakymzn\\AppData\\Roaming\\nltk_data...\n",
                        "[nltk_data]    |   Package framenet_v17 is already up-to-date!\n",
                        "[nltk_data]    | Downloading package gazetteers to\n",
                        "[nltk_data]    |     C:\\Users\\zakymzn\\AppData\\Roaming\\nltk_data...\n",
                        "[nltk_data]    |   Package gazetteers is already up-to-date!\n",
                        "[nltk_data]    | Downloading package genesis to\n",
                        "[nltk_data]    |     C:\\Users\\zakymzn\\AppData\\Roaming\\nltk_data...\n",
                        "[nltk_data]    |   Package genesis is already up-to-date!\n",
                        "[nltk_data]    | Downloading package gutenberg to\n",
                        "[nltk_data]    |     C:\\Users\\zakymzn\\AppData\\Roaming\\nltk_data...\n",
                        "[nltk_data]    |   Package gutenberg is already up-to-date!\n",
                        "[nltk_data]    | Downloading package ieer to\n",
                        "[nltk_data]    |     C:\\Users\\zakymzn\\AppData\\Roaming\\nltk_data...\n",
                        "[nltk_data]    |   Package ieer is already up-to-date!\n",
                        "[nltk_data]    | Downloading package inaugural to\n",
                        "[nltk_data]    |     C:\\Users\\zakymzn\\AppData\\Roaming\\nltk_data...\n",
                        "[nltk_data]    |   Package inaugural is already up-to-date!\n",
                        "[nltk_data]    | Downloading package indian to\n",
                        "[nltk_data]    |     C:\\Users\\zakymzn\\AppData\\Roaming\\nltk_data...\n",
                        "[nltk_data]    |   Package indian is already up-to-date!\n",
                        "[nltk_data]    | Downloading package jeita to\n",
                        "[nltk_data]    |     C:\\Users\\zakymzn\\AppData\\Roaming\\nltk_data...\n",
                        "[nltk_data]    |   Package jeita is already up-to-date!\n",
                        "[nltk_data]    | Downloading package kimmo to\n",
                        "[nltk_data]    |     C:\\Users\\zakymzn\\AppData\\Roaming\\nltk_data...\n",
                        "[nltk_data]    |   Package kimmo is already up-to-date!\n",
                        "[nltk_data]    | Downloading package knbc to\n",
                        "[nltk_data]    |     C:\\Users\\zakymzn\\AppData\\Roaming\\nltk_data...\n",
                        "[nltk_data]    |   Package knbc is already up-to-date!\n",
                        "[nltk_data]    | Downloading package large_grammars to\n",
                        "[nltk_data]    |     C:\\Users\\zakymzn\\AppData\\Roaming\\nltk_data...\n",
                        "[nltk_data]    |   Package large_grammars is already up-to-date!\n",
                        "[nltk_data]    | Downloading package lin_thesaurus to\n",
                        "[nltk_data]    |     C:\\Users\\zakymzn\\AppData\\Roaming\\nltk_data...\n",
                        "[nltk_data]    |   Package lin_thesaurus is already up-to-date!\n",
                        "[nltk_data]    | Downloading package mac_morpho to\n",
                        "[nltk_data]    |     C:\\Users\\zakymzn\\AppData\\Roaming\\nltk_data...\n",
                        "[nltk_data]    |   Package mac_morpho is already up-to-date!\n",
                        "[nltk_data]    | Downloading package machado to\n",
                        "[nltk_data]    |     C:\\Users\\zakymzn\\AppData\\Roaming\\nltk_data...\n",
                        "[nltk_data]    |   Package machado is already up-to-date!\n",
                        "[nltk_data]    | Downloading package masc_tagged to\n",
                        "[nltk_data]    |     C:\\Users\\zakymzn\\AppData\\Roaming\\nltk_data...\n",
                        "[nltk_data]    |   Package masc_tagged is already up-to-date!\n",
                        "[nltk_data]    | Downloading package maxent_ne_chunker to\n",
                        "[nltk_data]    |     C:\\Users\\zakymzn\\AppData\\Roaming\\nltk_data...\n",
                        "[nltk_data]    |   Package maxent_ne_chunker is already up-to-date!\n",
                        "[nltk_data]    | Downloading package maxent_ne_chunker_tab to\n",
                        "[nltk_data]    |     C:\\Users\\zakymzn\\AppData\\Roaming\\nltk_data...\n",
                        "[nltk_data]    |   Package maxent_ne_chunker_tab is already up-to-\n",
                        "[nltk_data]    |       date!\n",
                        "[nltk_data]    | Downloading package maxent_treebank_pos_tagger to\n",
                        "[nltk_data]    |     C:\\Users\\zakymzn\\AppData\\Roaming\\nltk_data...\n",
                        "[nltk_data]    |   Package maxent_treebank_pos_tagger is already up-\n",
                        "[nltk_data]    |       to-date!\n",
                        "[nltk_data]    | Downloading package maxent_treebank_pos_tagger_tab to\n",
                        "[nltk_data]    |     C:\\Users\\zakymzn\\AppData\\Roaming\\nltk_data...\n",
                        "[nltk_data]    |   Package maxent_treebank_pos_tagger_tab is already\n",
                        "[nltk_data]    |       up-to-date!\n",
                        "[nltk_data]    | Downloading package moses_sample to\n",
                        "[nltk_data]    |     C:\\Users\\zakymzn\\AppData\\Roaming\\nltk_data...\n",
                        "[nltk_data]    |   Package moses_sample is already up-to-date!\n",
                        "[nltk_data]    | Downloading package movie_reviews to\n",
                        "[nltk_data]    |     C:\\Users\\zakymzn\\AppData\\Roaming\\nltk_data...\n",
                        "[nltk_data]    |   Package movie_reviews is already up-to-date!\n",
                        "[nltk_data]    | Downloading package mte_teip5 to\n",
                        "[nltk_data]    |     C:\\Users\\zakymzn\\AppData\\Roaming\\nltk_data...\n",
                        "[nltk_data]    |   Package mte_teip5 is already up-to-date!\n",
                        "[nltk_data]    | Downloading package mwa_ppdb to\n",
                        "[nltk_data]    |     C:\\Users\\zakymzn\\AppData\\Roaming\\nltk_data...\n",
                        "[nltk_data]    |   Package mwa_ppdb is already up-to-date!\n",
                        "[nltk_data]    | Downloading package names to\n",
                        "[nltk_data]    |     C:\\Users\\zakymzn\\AppData\\Roaming\\nltk_data...\n",
                        "[nltk_data]    |   Package names is already up-to-date!\n",
                        "[nltk_data]    | Downloading package nombank.1.0 to\n",
                        "[nltk_data]    |     C:\\Users\\zakymzn\\AppData\\Roaming\\nltk_data...\n",
                        "[nltk_data]    |   Package nombank.1.0 is already up-to-date!\n",
                        "[nltk_data]    | Downloading package nonbreaking_prefixes to\n",
                        "[nltk_data]    |     C:\\Users\\zakymzn\\AppData\\Roaming\\nltk_data...\n",
                        "[nltk_data]    |   Package nonbreaking_prefixes is already up-to-date!\n",
                        "[nltk_data]    | Downloading package nps_chat to\n",
                        "[nltk_data]    |     C:\\Users\\zakymzn\\AppData\\Roaming\\nltk_data...\n",
                        "[nltk_data]    |   Package nps_chat is already up-to-date!\n",
                        "[nltk_data]    | Downloading package omw to\n",
                        "[nltk_data]    |     C:\\Users\\zakymzn\\AppData\\Roaming\\nltk_data...\n",
                        "[nltk_data]    |   Package omw is already up-to-date!\n",
                        "[nltk_data]    | Downloading package omw-1.4 to\n",
                        "[nltk_data]    |     C:\\Users\\zakymzn\\AppData\\Roaming\\nltk_data...\n",
                        "[nltk_data]    |   Package omw-1.4 is already up-to-date!\n",
                        "[nltk_data]    | Downloading package opinion_lexicon to\n",
                        "[nltk_data]    |     C:\\Users\\zakymzn\\AppData\\Roaming\\nltk_data...\n",
                        "[nltk_data]    |   Package opinion_lexicon is already up-to-date!\n",
                        "[nltk_data]    | Downloading package panlex_swadesh to\n",
                        "[nltk_data]    |     C:\\Users\\zakymzn\\AppData\\Roaming\\nltk_data...\n",
                        "[nltk_data]    |   Package panlex_swadesh is already up-to-date!\n",
                        "[nltk_data]    | Downloading package paradigms to\n",
                        "[nltk_data]    |     C:\\Users\\zakymzn\\AppData\\Roaming\\nltk_data...\n",
                        "[nltk_data]    |   Package paradigms is already up-to-date!\n",
                        "[nltk_data]    | Downloading package pe08 to\n",
                        "[nltk_data]    |     C:\\Users\\zakymzn\\AppData\\Roaming\\nltk_data...\n",
                        "[nltk_data]    |   Package pe08 is already up-to-date!\n",
                        "[nltk_data]    | Downloading package perluniprops to\n",
                        "[nltk_data]    |     C:\\Users\\zakymzn\\AppData\\Roaming\\nltk_data...\n",
                        "[nltk_data]    |   Package perluniprops is already up-to-date!\n",
                        "[nltk_data]    | Downloading package pil to\n",
                        "[nltk_data]    |     C:\\Users\\zakymzn\\AppData\\Roaming\\nltk_data...\n",
                        "[nltk_data]    |   Package pil is already up-to-date!\n",
                        "[nltk_data]    | Downloading package pl196x to\n",
                        "[nltk_data]    |     C:\\Users\\zakymzn\\AppData\\Roaming\\nltk_data...\n",
                        "[nltk_data]    |   Package pl196x is already up-to-date!\n",
                        "[nltk_data]    | Downloading package porter_test to\n",
                        "[nltk_data]    |     C:\\Users\\zakymzn\\AppData\\Roaming\\nltk_data...\n",
                        "[nltk_data]    |   Package porter_test is already up-to-date!\n",
                        "[nltk_data]    | Downloading package ppattach to\n",
                        "[nltk_data]    |     C:\\Users\\zakymzn\\AppData\\Roaming\\nltk_data...\n",
                        "[nltk_data]    |   Package ppattach is already up-to-date!\n",
                        "[nltk_data]    | Downloading package problem_reports to\n",
                        "[nltk_data]    |     C:\\Users\\zakymzn\\AppData\\Roaming\\nltk_data...\n",
                        "[nltk_data]    |   Package problem_reports is already up-to-date!\n",
                        "[nltk_data]    | Downloading package product_reviews_1 to\n",
                        "[nltk_data]    |     C:\\Users\\zakymzn\\AppData\\Roaming\\nltk_data...\n",
                        "[nltk_data]    |   Package product_reviews_1 is already up-to-date!\n",
                        "[nltk_data]    | Downloading package product_reviews_2 to\n",
                        "[nltk_data]    |     C:\\Users\\zakymzn\\AppData\\Roaming\\nltk_data...\n",
                        "[nltk_data]    |   Package product_reviews_2 is already up-to-date!\n",
                        "[nltk_data]    | Downloading package propbank to\n",
                        "[nltk_data]    |     C:\\Users\\zakymzn\\AppData\\Roaming\\nltk_data...\n",
                        "[nltk_data]    |   Package propbank is already up-to-date!\n",
                        "[nltk_data]    | Downloading package pros_cons to\n",
                        "[nltk_data]    |     C:\\Users\\zakymzn\\AppData\\Roaming\\nltk_data...\n",
                        "[nltk_data]    |   Package pros_cons is already up-to-date!\n",
                        "[nltk_data]    | Downloading package ptb to\n",
                        "[nltk_data]    |     C:\\Users\\zakymzn\\AppData\\Roaming\\nltk_data...\n",
                        "[nltk_data]    |   Package ptb is already up-to-date!\n",
                        "[nltk_data]    | Downloading package punkt to\n",
                        "[nltk_data]    |     C:\\Users\\zakymzn\\AppData\\Roaming\\nltk_data...\n",
                        "[nltk_data]    |   Package punkt is already up-to-date!\n",
                        "[nltk_data]    | Downloading package punkt_tab to\n",
                        "[nltk_data]    |     C:\\Users\\zakymzn\\AppData\\Roaming\\nltk_data...\n",
                        "[nltk_data]    |   Package punkt_tab is already up-to-date!\n",
                        "[nltk_data]    | Downloading package qc to\n",
                        "[nltk_data]    |     C:\\Users\\zakymzn\\AppData\\Roaming\\nltk_data...\n",
                        "[nltk_data]    |   Package qc is already up-to-date!\n",
                        "[nltk_data]    | Downloading package reuters to\n",
                        "[nltk_data]    |     C:\\Users\\zakymzn\\AppData\\Roaming\\nltk_data...\n",
                        "[nltk_data]    |   Package reuters is already up-to-date!\n",
                        "[nltk_data]    | Downloading package rslp to\n",
                        "[nltk_data]    |     C:\\Users\\zakymzn\\AppData\\Roaming\\nltk_data...\n",
                        "[nltk_data]    |   Package rslp is already up-to-date!\n",
                        "[nltk_data]    | Downloading package rte to\n",
                        "[nltk_data]    |     C:\\Users\\zakymzn\\AppData\\Roaming\\nltk_data...\n",
                        "[nltk_data]    |   Package rte is already up-to-date!\n",
                        "[nltk_data]    | Downloading package sample_grammars to\n",
                        "[nltk_data]    |     C:\\Users\\zakymzn\\AppData\\Roaming\\nltk_data...\n",
                        "[nltk_data]    |   Package sample_grammars is already up-to-date!\n",
                        "[nltk_data]    | Downloading package semcor to\n",
                        "[nltk_data]    |     C:\\Users\\zakymzn\\AppData\\Roaming\\nltk_data...\n",
                        "[nltk_data]    |   Package semcor is already up-to-date!\n",
                        "[nltk_data]    | Downloading package senseval to\n",
                        "[nltk_data]    |     C:\\Users\\zakymzn\\AppData\\Roaming\\nltk_data...\n",
                        "[nltk_data]    |   Package senseval is already up-to-date!\n",
                        "[nltk_data]    | Downloading package sentence_polarity to\n",
                        "[nltk_data]    |     C:\\Users\\zakymzn\\AppData\\Roaming\\nltk_data...\n",
                        "[nltk_data]    |   Package sentence_polarity is already up-to-date!\n",
                        "[nltk_data]    | Downloading package sentiwordnet to\n",
                        "[nltk_data]    |     C:\\Users\\zakymzn\\AppData\\Roaming\\nltk_data...\n",
                        "[nltk_data]    |   Package sentiwordnet is already up-to-date!\n",
                        "[nltk_data]    | Downloading package shakespeare to\n",
                        "[nltk_data]    |     C:\\Users\\zakymzn\\AppData\\Roaming\\nltk_data...\n",
                        "[nltk_data]    |   Package shakespeare is already up-to-date!\n",
                        "[nltk_data]    | Downloading package sinica_treebank to\n",
                        "[nltk_data]    |     C:\\Users\\zakymzn\\AppData\\Roaming\\nltk_data...\n",
                        "[nltk_data]    |   Package sinica_treebank is already up-to-date!\n",
                        "[nltk_data]    | Downloading package smultron to\n",
                        "[nltk_data]    |     C:\\Users\\zakymzn\\AppData\\Roaming\\nltk_data...\n",
                        "[nltk_data]    |   Package smultron is already up-to-date!\n",
                        "[nltk_data]    | Downloading package snowball_data to\n",
                        "[nltk_data]    |     C:\\Users\\zakymzn\\AppData\\Roaming\\nltk_data...\n",
                        "[nltk_data]    |   Package snowball_data is already up-to-date!\n",
                        "[nltk_data]    | Downloading package spanish_grammars to\n",
                        "[nltk_data]    |     C:\\Users\\zakymzn\\AppData\\Roaming\\nltk_data...\n",
                        "[nltk_data]    |   Package spanish_grammars is already up-to-date!\n",
                        "[nltk_data]    | Downloading package state_union to\n",
                        "[nltk_data]    |     C:\\Users\\zakymzn\\AppData\\Roaming\\nltk_data...\n",
                        "[nltk_data]    |   Package state_union is already up-to-date!\n",
                        "[nltk_data]    | Downloading package stopwords to\n",
                        "[nltk_data]    |     C:\\Users\\zakymzn\\AppData\\Roaming\\nltk_data...\n",
                        "[nltk_data]    |   Package stopwords is already up-to-date!\n",
                        "[nltk_data]    | Downloading package subjectivity to\n",
                        "[nltk_data]    |     C:\\Users\\zakymzn\\AppData\\Roaming\\nltk_data...\n",
                        "[nltk_data]    |   Package subjectivity is already up-to-date!\n",
                        "[nltk_data]    | Downloading package swadesh to\n",
                        "[nltk_data]    |     C:\\Users\\zakymzn\\AppData\\Roaming\\nltk_data...\n",
                        "[nltk_data]    |   Package swadesh is already up-to-date!\n",
                        "[nltk_data]    | Downloading package switchboard to\n",
                        "[nltk_data]    |     C:\\Users\\zakymzn\\AppData\\Roaming\\nltk_data...\n",
                        "[nltk_data]    |   Package switchboard is already up-to-date!\n",
                        "[nltk_data]    | Downloading package tagsets to\n",
                        "[nltk_data]    |     C:\\Users\\zakymzn\\AppData\\Roaming\\nltk_data...\n",
                        "[nltk_data]    |   Package tagsets is already up-to-date!\n",
                        "[nltk_data]    | Downloading package tagsets_json to\n",
                        "[nltk_data]    |     C:\\Users\\zakymzn\\AppData\\Roaming\\nltk_data...\n",
                        "[nltk_data]    |   Package tagsets_json is already up-to-date!\n",
                        "[nltk_data]    | Downloading package timit to\n",
                        "[nltk_data]    |     C:\\Users\\zakymzn\\AppData\\Roaming\\nltk_data...\n",
                        "[nltk_data]    |   Package timit is already up-to-date!\n",
                        "[nltk_data]    | Downloading package toolbox to\n",
                        "[nltk_data]    |     C:\\Users\\zakymzn\\AppData\\Roaming\\nltk_data...\n",
                        "[nltk_data]    |   Package toolbox is already up-to-date!\n",
                        "[nltk_data]    | Downloading package treebank to\n",
                        "[nltk_data]    |     C:\\Users\\zakymzn\\AppData\\Roaming\\nltk_data...\n",
                        "[nltk_data]    |   Package treebank is already up-to-date!\n",
                        "[nltk_data]    | Downloading package twitter_samples to\n",
                        "[nltk_data]    |     C:\\Users\\zakymzn\\AppData\\Roaming\\nltk_data...\n",
                        "[nltk_data]    |   Package twitter_samples is already up-to-date!\n",
                        "[nltk_data]    | Downloading package udhr to\n",
                        "[nltk_data]    |     C:\\Users\\zakymzn\\AppData\\Roaming\\nltk_data...\n",
                        "[nltk_data]    |   Package udhr is already up-to-date!\n",
                        "[nltk_data]    | Downloading package udhr2 to\n",
                        "[nltk_data]    |     C:\\Users\\zakymzn\\AppData\\Roaming\\nltk_data...\n",
                        "[nltk_data]    |   Package udhr2 is already up-to-date!\n",
                        "[nltk_data]    | Downloading package unicode_samples to\n",
                        "[nltk_data]    |     C:\\Users\\zakymzn\\AppData\\Roaming\\nltk_data...\n",
                        "[nltk_data]    |   Package unicode_samples is already up-to-date!\n",
                        "[nltk_data]    | Downloading package universal_tagset to\n",
                        "[nltk_data]    |     C:\\Users\\zakymzn\\AppData\\Roaming\\nltk_data...\n",
                        "[nltk_data]    |   Package universal_tagset is already up-to-date!\n",
                        "[nltk_data]    | Downloading package universal_treebanks_v20 to\n",
                        "[nltk_data]    |     C:\\Users\\zakymzn\\AppData\\Roaming\\nltk_data...\n",
                        "[nltk_data]    |   Package universal_treebanks_v20 is already up-to-\n",
                        "[nltk_data]    |       date!\n",
                        "[nltk_data]    | Downloading package vader_lexicon to\n",
                        "[nltk_data]    |     C:\\Users\\zakymzn\\AppData\\Roaming\\nltk_data...\n",
                        "[nltk_data]    |   Package vader_lexicon is already up-to-date!\n",
                        "[nltk_data]    | Downloading package verbnet to\n",
                        "[nltk_data]    |     C:\\Users\\zakymzn\\AppData\\Roaming\\nltk_data...\n",
                        "[nltk_data]    |   Package verbnet is already up-to-date!\n",
                        "[nltk_data]    | Downloading package verbnet3 to\n",
                        "[nltk_data]    |     C:\\Users\\zakymzn\\AppData\\Roaming\\nltk_data...\n",
                        "[nltk_data]    |   Package verbnet3 is already up-to-date!\n",
                        "[nltk_data]    | Downloading package webtext to\n",
                        "[nltk_data]    |     C:\\Users\\zakymzn\\AppData\\Roaming\\nltk_data...\n",
                        "[nltk_data]    |   Package webtext is already up-to-date!\n",
                        "[nltk_data]    | Downloading package wmt15_eval to\n",
                        "[nltk_data]    |     C:\\Users\\zakymzn\\AppData\\Roaming\\nltk_data...\n",
                        "[nltk_data]    |   Package wmt15_eval is already up-to-date!\n",
                        "[nltk_data]    | Downloading package word2vec_sample to\n",
                        "[nltk_data]    |     C:\\Users\\zakymzn\\AppData\\Roaming\\nltk_data...\n",
                        "[nltk_data]    |   Package word2vec_sample is already up-to-date!\n",
                        "[nltk_data]    | Downloading package wordnet to\n",
                        "[nltk_data]    |     C:\\Users\\zakymzn\\AppData\\Roaming\\nltk_data...\n",
                        "[nltk_data]    |   Package wordnet is already up-to-date!\n",
                        "[nltk_data]    | Downloading package wordnet2021 to\n",
                        "[nltk_data]    |     C:\\Users\\zakymzn\\AppData\\Roaming\\nltk_data...\n",
                        "[nltk_data]    |   Package wordnet2021 is already up-to-date!\n",
                        "[nltk_data]    | Downloading package wordnet2022 to\n",
                        "[nltk_data]    |     C:\\Users\\zakymzn\\AppData\\Roaming\\nltk_data...\n",
                        "[nltk_data]    |   Package wordnet2022 is already up-to-date!\n",
                        "[nltk_data]    | Downloading package wordnet31 to\n",
                        "[nltk_data]    |     C:\\Users\\zakymzn\\AppData\\Roaming\\nltk_data...\n",
                        "[nltk_data]    |   Package wordnet31 is already up-to-date!\n",
                        "[nltk_data]    | Downloading package wordnet_ic to\n",
                        "[nltk_data]    |     C:\\Users\\zakymzn\\AppData\\Roaming\\nltk_data...\n",
                        "[nltk_data]    |   Package wordnet_ic is already up-to-date!\n",
                        "[nltk_data]    | Downloading package words to\n",
                        "[nltk_data]    |     C:\\Users\\zakymzn\\AppData\\Roaming\\nltk_data...\n",
                        "[nltk_data]    |   Package words is already up-to-date!\n",
                        "[nltk_data]    | Downloading package ycoe to\n",
                        "[nltk_data]    |     C:\\Users\\zakymzn\\AppData\\Roaming\\nltk_data...\n",
                        "[nltk_data]    |   Package ycoe is already up-to-date!\n",
                        "[nltk_data]    | \n",
                        "[nltk_data]  Done downloading collection all\n"
                    ]
                }
            ],
            "source": [
                "import pandas as pd\n",
                "import string\n",
                "import re\n",
                "import joblib\n",
                "import matplotlib.pyplot as plt\n",
                "import nltk\n",
                "nltk.download('all')\n",
                "from nltk.tokenize import word_tokenize\n",
                "from Sastrawi.Stemmer.StemmerFactory import StemmerFactory\n",
                "from Sastrawi.StopWordRemover.StopWordRemoverFactory import StopWordRemoverFactory\n",
                "from sklearn.svm import SVC\n",
                "from sklearn.model_selection import train_test_split\n",
                "from sklearn.feature_extraction.text import TfidfVectorizer\n",
                "from sklearn.metrics import *\n",
                "from imblearn.over_sampling import SMOTE\n",
                "from wordcloud import WordCloud"
            ]
        },
        {
            "cell_type": "markdown",
            "metadata": {},
            "source": [
                "## Load Processed Data"
            ]
        },
        {
            "cell_type": "code",
            "execution_count": 2,
            "metadata": {},
            "outputs": [
                {
                    "data": {
                        "text/html": [
                            "<div>\n",
                            "<style scoped>\n",
                            "    .dataframe tbody tr th:only-of-type {\n",
                            "        vertical-align: middle;\n",
                            "    }\n",
                            "\n",
                            "    .dataframe tbody tr th {\n",
                            "        vertical-align: top;\n",
                            "    }\n",
                            "\n",
                            "    .dataframe thead th {\n",
                            "        text-align: right;\n",
                            "    }\n",
                            "</style>\n",
                            "<table border=\"1\" class=\"dataframe\">\n",
                            "  <thead>\n",
                            "    <tr style=\"text-align: right;\">\n",
                            "      <th></th>\n",
                            "      <th>review</th>\n",
                            "      <th>sentiment</th>\n",
                            "    </tr>\n",
                            "  </thead>\n",
                            "  <tbody>\n",
                            "    <tr>\n",
                            "      <th>0</th>\n",
                            "      <td>aplikasi susah fungsi software mudah rumah kan...</td>\n",
                            "      <td>Negatif</td>\n",
                            "    </tr>\n",
                            "    <tr>\n",
                            "      <th>1</th>\n",
                            "      <td>kecewa aplikasi buruk selesai daftar bukatiap ...</td>\n",
                            "      <td>Negatif</td>\n",
                            "    </tr>\n",
                            "    <tr>\n",
                            "      <th>2</th>\n",
                            "      <td>buka pakai wifi kalo pakai paket data pribadi ...</td>\n",
                            "      <td>Negatif</td>\n",
                            "    </tr>\n",
                            "    <tr>\n",
                            "      <th>3</th>\n",
                            "      <td>aplikasi bantu buka dukcapil wajib menginstal ...</td>\n",
                            "      <td>Negatif</td>\n",
                            "    </tr>\n",
                            "    <tr>\n",
                            "      <th>4</th>\n",
                            "      <td>login berkalikali muncul jaring stabil jaring ...</td>\n",
                            "      <td>Negatif</td>\n",
                            "    </tr>\n",
                            "    <tr>\n",
                            "      <th>...</th>\n",
                            "      <td>...</td>\n",
                            "      <td>...</td>\n",
                            "    </tr>\n",
                            "    <tr>\n",
                            "      <th>19665</th>\n",
                            "      <td>aplikasi urus  mas kudu fotocopy blok</td>\n",
                            "      <td>Negatif</td>\n",
                            "    </tr>\n",
                            "    <tr>\n",
                            "      <th>19666</th>\n",
                            "      <td>mas ribet kantor dukcapil versifikasi</td>\n",
                            "      <td>Negatif</td>\n",
                            "    </tr>\n",
                            "    <tr>\n",
                            "      <th>19667</th>\n",
                            "      <td>aplikasi buka internet lancar jaya koneksi put...</td>\n",
                            "      <td>Negatif</td>\n",
                            "    </tr>\n",
                            "    <tr>\n",
                            "      <th>19668</th>\n",
                            "      <td>aplikasi bantu</td>\n",
                            "      <td>Negatif</td>\n",
                            "    </tr>\n",
                            "    <tr>\n",
                            "      <th>19669</th>\n",
                            "      <td>korup modal aplikasi cuihhhhhh</td>\n",
                            "      <td>Negatif</td>\n",
                            "    </tr>\n",
                            "  </tbody>\n",
                            "</table>\n",
                            "<p>19670 rows × 2 columns</p>\n",
                            "</div>"
                        ],
                        "text/plain": [
                            "                                                  review sentiment\n",
                            "0      aplikasi susah fungsi software mudah rumah kan...   Negatif\n",
                            "1      kecewa aplikasi buruk selesai daftar bukatiap ...   Negatif\n",
                            "2      buka pakai wifi kalo pakai paket data pribadi ...   Negatif\n",
                            "3      aplikasi bantu buka dukcapil wajib menginstal ...   Negatif\n",
                            "4      login berkalikali muncul jaring stabil jaring ...   Negatif\n",
                            "...                                                  ...       ...\n",
                            "19665              aplikasi urus  mas kudu fotocopy blok   Negatif\n",
                            "19666              mas ribet kantor dukcapil versifikasi   Negatif\n",
                            "19667  aplikasi buka internet lancar jaya koneksi put...   Negatif\n",
                            "19668                                     aplikasi bantu   Negatif\n",
                            "19669                     korup modal aplikasi cuihhhhhh   Negatif\n",
                            "\n",
                            "[19670 rows x 2 columns]"
                        ]
                    },
                    "execution_count": 2,
                    "metadata": {},
                    "output_type": "execute_result"
                }
            ],
            "source": [
                "df = pd.read_csv('../../data/processed/processed_reviews.csv')\n",
                "df"
            ]
        },
        {
            "cell_type": "code",
            "execution_count": 3,
            "metadata": {},
            "outputs": [
                {
                    "name": "stdout",
                    "output_type": "stream",
                    "text": [
                        "<class 'pandas.core.frame.DataFrame'>\n",
                        "RangeIndex: 19670 entries, 0 to 19669\n",
                        "Data columns (total 2 columns):\n",
                        " #   Column     Non-Null Count  Dtype \n",
                        "---  ------     --------------  ----- \n",
                        " 0   review     19342 non-null  object\n",
                        " 1   sentiment  19670 non-null  object\n",
                        "dtypes: object(2)\n",
                        "memory usage: 307.5+ KB\n"
                    ]
                }
            ],
            "source": [
                "df.info()"
            ]
        },
        {
            "cell_type": "code",
            "execution_count": 4,
            "metadata": {},
            "outputs": [
                {
                    "data": {
                        "text/plain": [
                            "review       328\n",
                            "sentiment      0\n",
                            "dtype: int64"
                        ]
                    },
                    "execution_count": 4,
                    "metadata": {},
                    "output_type": "execute_result"
                }
            ],
            "source": [
                "df.isnull().sum()"
            ]
        },
        {
            "cell_type": "code",
            "execution_count": 5,
            "metadata": {},
            "outputs": [
                {
                    "name": "stderr",
                    "output_type": "stream",
                    "text": [
                        "C:\\Users\\zakymzn\\AppData\\Local\\Temp\\ipykernel_6744\\3722013860.py:1: FutureWarning: A value is trying to be set on a copy of a DataFrame or Series through chained assignment using an inplace method.\n",
                        "The behavior will change in pandas 3.0. This inplace method will never work because the intermediate object on which we are setting values always behaves as a copy.\n",
                        "\n",
                        "For example, when doing 'df[col].method(value, inplace=True)', try using 'df.method({col: value}, inplace=True)' or df[col] = df[col].method(value) instead, to perform the operation inplace on the original object.\n",
                        "\n",
                        "\n",
                        "  df['review'].fillna('', inplace=True)\n"
                    ]
                },
                {
                    "data": {
                        "text/plain": [
                            "review       0\n",
                            "sentiment    0\n",
                            "dtype: int64"
                        ]
                    },
                    "execution_count": 5,
                    "metadata": {},
                    "output_type": "execute_result"
                }
            ],
            "source": [
                "df['review'].fillna('', inplace=True)\n",
                "df.isnull().sum()"
            ]
        },
        {
            "cell_type": "markdown",
            "metadata": {},
            "source": [
                "## Feature dan Label"
            ]
        },
        {
            "cell_type": "code",
            "execution_count": 6,
            "metadata": {},
            "outputs": [],
            "source": [
                "# membagi atribut menjadi features (X) dan label (y)\n",
                "\n",
                "X = df['review']\n",
                "y = df['sentiment']"
            ]
        },
        {
            "cell_type": "code",
            "execution_count": 7,
            "metadata": {},
            "outputs": [
                {
                    "data": {
                        "image/png": "[encoded data removed]",
                        "text/plain": [
                            "<Figure size 640x480 with 1 Axes>"
                        ]
                    },
                    "metadata": {},
                    "output_type": "display_data"
                }
            ],
            "source": [
                "# menampilkan grafik jumlah data pada kolom sentiment\n",
                "\n",
                "y.value_counts().plot(kind='bar')\n",
                "plt.title('Jumlah Data Antar Kelas Sebelum Diseimbangkan')\n",
                "plt.text(x=-0.075,y=y.value_counts()[\"Negatif\"],s=y.value_counts()[\"Negatif\"])\n",
                "plt.text(x=0.925,y=y.value_counts()[\"Positif\"],s=y.value_counts()[\"Positif\"])\n",
                "plt.show()"
            ]
        },
        {
            "cell_type": "markdown",
            "metadata": {},
            "source": [
                "## Pembobotan Kata Menggunakan TF-IDF"
            ]
        },
        {
            "cell_type": "code",
            "execution_count": 9,
            "metadata": {},
            "outputs": [
                {
                    "data": {
                        "text/plain": [
                            "<19670x12974 sparse matrix of type '<class 'numpy.float64'>'\n",
                            "\twith 118585 stored elements in Compressed Sparse Row format>"
                        ]
                    },
                    "execution_count": 9,
                    "metadata": {},
                    "output_type": "execute_result"
                }
            ],
            "source": [
                "# melakukan pembobotan kata dengan TF-IDF\n",
                "\n",
                "tfidf = TfidfVectorizer()\n",
                "X_tfidf = tfidf.fit_transform(X)\n",
                "X_tfidf"
            ]
        },
        {
            "cell_type": "code",
            "execution_count": 10,
            "metadata": {},
            "outputs": [
                {
                    "data": {
                        "text/html": [
                            "<div>\n",
                            "<style scoped>\n",
                            "    .dataframe tbody tr th:only-of-type {\n",
                            "        vertical-align: middle;\n",
                            "    }\n",
                            "\n",
                            "    .dataframe tbody tr th {\n",
                            "        vertical-align: top;\n",
                            "    }\n",
                            "\n",
                            "    .dataframe thead th {\n",
                            "        text-align: right;\n",
                            "    }\n",
                            "</style>\n",
                            "<table border=\"1\" class=\"dataframe\">\n",
                            "  <thead>\n",
                            "    <tr style=\"text-align: right;\">\n",
                            "      <th></th>\n",
                            "      <th>tfidf</th>\n",
                            "    </tr>\n",
                            "  </thead>\n",
                            "  <tbody>\n",
                            "    <tr>\n",
                            "      <th>software</th>\n",
                            "      <td>0.402170</td>\n",
                            "    </tr>\n",
                            "    <tr>\n",
                            "      <th>kesini</th>\n",
                            "      <td>0.353591</td>\n",
                            "    </tr>\n",
                            "    <tr>\n",
                            "      <th>normal</th>\n",
                            "      <td>0.329554</td>\n",
                            "    </tr>\n",
                            "    <tr>\n",
                            "      <th>bolak</th>\n",
                            "      <td>0.297500</td>\n",
                            "    </tr>\n",
                            "    <tr>\n",
                            "      <th>rumah</th>\n",
                            "      <td>0.262573</td>\n",
                            "    </tr>\n",
                            "    <tr>\n",
                            "      <th>error</th>\n",
                            "      <td>0.238143</td>\n",
                            "    </tr>\n",
                            "    <tr>\n",
                            "      <th>fungsi</th>\n",
                            "      <td>0.237073</td>\n",
                            "    </tr>\n",
                            "    <tr>\n",
                            "      <th>mulu</th>\n",
                            "      <td>0.235008</td>\n",
                            "    </tr>\n",
                            "    <tr>\n",
                            "      <th>jaring</th>\n",
                            "      <td>0.200343</td>\n",
                            "    </tr>\n",
                            "    <tr>\n",
                            "      <th>kantor</th>\n",
                            "      <td>0.193990</td>\n",
                            "    </tr>\n",
                            "  </tbody>\n",
                            "</table>\n",
                            "</div>"
                        ],
                        "text/plain": [
                            "             tfidf\n",
                            "software  0.402170\n",
                            "kesini    0.353591\n",
                            "normal    0.329554\n",
                            "bolak     0.297500\n",
                            "rumah     0.262573\n",
                            "error     0.238143\n",
                            "fungsi    0.237073\n",
                            "mulu      0.235008\n",
                            "jaring    0.200343\n",
                            "kantor    0.193990"
                        ]
                    },
                    "execution_count": 10,
                    "metadata": {},
                    "output_type": "execute_result"
                }
            ],
            "source": [
                "# menampilkan hasil tf-idf pada baris data pertama\n",
                "\n",
                "first_vector = X_tfidf[0]\n",
                "df_tfidf_first = pd.DataFrame(first_vector.T.todense(), index=tfidf.get_feature_names_out(), columns=['tfidf'])\n",
                "df_tfidf_first.sort_values(by=['tfidf'], ascending=False).head(10)"
            ]
        },
        {
            "cell_type": "markdown",
            "metadata": {},
            "source": [
                "## Menyeimbangkan Data Menggunakan SMOTE"
            ]
        },
        {
            "cell_type": "code",
            "execution_count": 11,
            "metadata": {},
            "outputs": [],
            "source": [
                "# menyeimbangkan data berdasarkan atribut sentiment atau label (y)\n",
                "\n",
                "oversampler = SMOTE()\n",
                "X_tfidf_resampled, y_resampled = oversampler.fit_resample(X_tfidf, y)"
            ]
        },
        {
            "cell_type": "code",
            "execution_count": 12,
            "metadata": {},
            "outputs": [
                {
                    "data": {
                        "image/png": "[encoded data removed]",
                        "text/plain": [
                            "<Figure size 640x480 with 1 Axes>"
                        ]
                    },
                    "metadata": {},
                    "output_type": "display_data"
                }
            ],
            "source": [
                "# menampilkan kembali grafik jumlah data pada kolom sentiment\n",
                "\n",
                "y_resampled.value_counts().plot(kind='bar')\n",
                "plt.title('Jumlah Data Antar Kelas Sesudah Diseimbangkan')\n",
                "plt.text(x=-0.075,y=y_resampled.value_counts()[\"Negatif\"],s=y_resampled.value_counts()[\"Negatif\"])\n",
                "plt.text(x=0.925,y=y_resampled.value_counts()[\"Positif\"],s=y_resampled.value_counts()[\"Positif\"])\n",
                "plt.show()"
            ]
        },
        {
            "cell_type": "markdown",
            "metadata": {},
            "source": [
                "## Pembagian Data Latih dan Data Uji"
            ]
        },
        {
            "cell_type": "code",
            "execution_count": 13,
            "metadata": {},
            "outputs": [],
            "source": [
                "# membagi data menjadi data latih (training data) dan data uji (test data)\n",
                "\n",
                "X_train, X_test, y_train, y_test = train_test_split(X_tfidf_resampled, y_resampled, test_size=0.2, random_state=42)"
            ]
        },
        {
            "cell_type": "markdown",
            "metadata": {},
            "source": [
                "## Load Model Menggunakan Joblib"
            ]
        },
        {
            "cell_type": "code",
            "execution_count": 14,
            "metadata": {},
            "outputs": [],
            "source": [
                "# inisiasi model machine learning\n",
                "\n",
                "model = joblib.load('../../models/analisis_sentimen_ikd.joblib')"
            ]
        },
        {
            "cell_type": "markdown",
            "metadata": {},
            "source": [
                "## Evaluasi"
            ]
        },
        {
            "cell_type": "code",
            "execution_count": 15,
            "metadata": {},
            "outputs": [
                {
                    "name": "stdout",
                    "output_type": "stream",
                    "text": [
                        "Training accuracy : 0.9522392358277733\n",
                        "Test accuracy : 0.90266845843732\n",
                        "Difference : 0.049570777390453236\n"
                    ]
                }
            ],
            "source": [
                "# memeriksa overfit/underfit\n",
                "\n",
                "training_accuracy = accuracy_score(y_train, model.predict(X_train))\n",
                "test_accuracy = accuracy_score(y_test, model.predict(X_test))\n",
                "print('Training accuracy :', training_accuracy)\n",
                "print('Test accuracy :', test_accuracy)\n",
                "print('Difference :', training_accuracy - test_accuracy)"
            ]
        },
        {
            "cell_type": "code",
            "execution_count": 16,
            "metadata": {},
            "outputs": [
                {
                    "data": {
                        "image/png": "[encoded data removed]",
                        "text/plain": [
                            "<Figure size 640x480 with 2 Axes>"
                        ]
                    },
                    "metadata": {},
                    "output_type": "display_data"
                }
            ],
            "source": [
                "# menampilkan confusion matrix\n",
                "\n",
                "y_pred = model.predict(X_test)\n",
                "cm = confusion_matrix(y_test, y_pred)\n",
                "disp = ConfusionMatrixDisplay(confusion_matrix=cm, display_labels=model.classes_)\n",
                "disp.plot()\n",
                "plt.show()"
            ]
        },
        {
            "cell_type": "code",
            "execution_count": 17,
            "metadata": {},
            "outputs": [
                {
                    "name": "stdout",
                    "output_type": "stream",
                    "text": [
                        "              precision    recall  f1-score   support\n",
                        "\n",
                        "     Negatif     0.8717    0.9433    0.9061      2593\n",
                        "     Positif     0.9388    0.8624    0.8990      2616\n",
                        "\n",
                        "    accuracy                         0.9027      5209\n",
                        "   macro avg     0.9053    0.9028    0.9025      5209\n",
                        "weighted avg     0.9054    0.9027    0.9025      5209\n",
                        "\n"
                    ]
                }
            ],
            "source": [
                "# melihat hasil laporan klasifikasi\n",
                "\n",
                "print(classification_report(y_test, y_pred, zero_division=0, digits=4))"
            ]
        }
    ],
    "metadata": {
        "kernelspec": {
            "display_name": "Python 3",
            "language": "python",
            "name": "python3"
        },
        "language_info": {
            "codemirror_mode": {
                "name": "ipython",
                "version": 3
            },
            "file_extension": ".py",
            "mimetype": "text/x-python",
            "name": "python",
            "nbconvert_exporter": "python",
            "pygments_lexer": "ipython3",
            "version": "3.12.9"
        }
    },
    "nbformat": 4,
    "nbformat_minor": 2
}
