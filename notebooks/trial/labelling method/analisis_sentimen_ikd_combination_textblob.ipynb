{
    "cells": [
        {
            "cell_type": "markdown",
            "metadata": {},
            "source": [
                "# **Analisis Sentimen Kepuasan Pengguna Aplikasi Identitas Kependudukan Digital (IKD) di Play Store**"
            ]
        },
        {
            "cell_type": "markdown",
            "metadata": {},
            "source": [
                "oleh Ma'mur Zaky Nurrokhman"
            ]
        },
        {
            "cell_type": "markdown",
            "metadata": {},
            "source": [
                "## Import Library"
            ]
        },
        {
            "cell_type": "code",
            "execution_count": 1,
            "metadata": {},
            "outputs": [],
            "source": [
                "import pandas as pd\n",
                "import string\n",
                "import re\n",
                "import matplotlib.pyplot as plt\n",
                "from imblearn.over_sampling import SMOTE\n",
                "from nltk.tokenize import word_tokenize\n",
                "from Sastrawi.Stemmer.StemmerFactory import StemmerFactory\n",
                "from Sastrawi.StopWordRemover.StopWordRemoverFactory import StopWordRemoverFactory\n",
                "from sklearn.svm import SVC\n",
                "from sklearn.model_selection import train_test_split\n",
                "from sklearn.feature_extraction.text import TfidfVectorizer\n",
                "from sklearn.metrics import *\n",
                "from textblob import TextBlob\n",
                "from wordcloud import WordCloud"
            ]
        },
        {
            "cell_type": "markdown",
            "metadata": {},
            "source": [
                "## Data Preparation"
            ]
        },
        {
            "cell_type": "markdown",
            "metadata": {},
            "source": [
                "### Dataset Ulasan Aplikasi IKD di Play Store"
            ]
        },
        {
            "cell_type": "markdown",
            "metadata": {},
            "source": [
                "#### 23 Maret 2024"
            ]
        },
        {
            "cell_type": "code",
            "execution_count": null,
            "metadata": {},
            "outputs": [],
            "source": [
                "# import dataset ulasan aplikasi IKD di Play Store pada bulan Maret 2024\n",
                "\n",
                "df_ikd_play_store_maret = pd.read_csv('../../data/review_ikd_play_store_23-03-2024.csv')\n",
                "df_ikd_play_store_maret"
            ]
        },
        {
            "cell_type": "markdown",
            "metadata": {},
            "source": [
                "#### 28 Mei 2024"
            ]
        },
        {
            "cell_type": "code",
            "execution_count": null,
            "metadata": {},
            "outputs": [],
            "source": [
                "# import dataset ulasan aplikasi IKD di Play Store pada bulan Mei 2024\n",
                "\n",
                "df_ikd_play_store_mei = pd.read_csv('../../data/review_ikd_play_store_28-05-2024.csv')\n",
                "df_ikd_play_store_mei"
            ]
        },
        {
            "cell_type": "markdown",
            "metadata": {},
            "source": [
                "#### 30 Juni 2024"
            ]
        },
        {
            "cell_type": "code",
            "execution_count": null,
            "metadata": {},
            "outputs": [],
            "source": [
                "# import dataset ulasan aplikasi IKD di Play Store pada bulan Juni 2024\n",
                "\n",
                "df_ikd_play_store_juni = pd.read_csv('../../data/review_ikd_play_store_30-06-2024.csv')\n",
                "df_ikd_play_store_juni"
            ]
        },
        {
            "cell_type": "markdown",
            "metadata": {},
            "source": [
                "### Dataset Ulasan Aplikasi IKD di App Store"
            ]
        },
        {
            "cell_type": "markdown",
            "metadata": {},
            "source": [
                "#### 24 April 2024"
            ]
        },
        {
            "cell_type": "code",
            "execution_count": null,
            "metadata": {},
            "outputs": [],
            "source": [
                "# import dataset ulasan aplikasi IKD di App Store pada bulan April 2024\n",
                "\n",
                "df_ikd_app_store_april = pd.read_csv('../../data/review_ikd_app_store_24-04-2024.csv')\n",
                "df_ikd_app_store_april"
            ]
        },
        {
            "cell_type": "markdown",
            "metadata": {},
            "source": [
                "#### 28 Mei 2024"
            ]
        },
        {
            "cell_type": "code",
            "execution_count": null,
            "metadata": {},
            "outputs": [],
            "source": [
                "# import dataset ulasan aplikasi IKD di App Store pada bulan Mei 2024\n",
                "\n",
                "df_ikd_app_store_mei = pd.read_csv('../../data/review_ikd_app_store_28-05-2024.csv')\n",
                "df_ikd_app_store_mei"
            ]
        },
        {
            "cell_type": "markdown",
            "metadata": {},
            "source": [
                "#### 30 Juni 2024"
            ]
        },
        {
            "cell_type": "code",
            "execution_count": null,
            "metadata": {},
            "outputs": [],
            "source": [
                "# import dataset ulasan aplikasi IKD di App Store pada bulan Juni 2024\n",
                "\n",
                "df_ikd_app_store_juni = pd.read_csv('../../data/review_ikd_app_store_30-06-2024.csv')\n",
                "df_ikd_app_store_juni"
            ]
        },
        {
            "cell_type": "markdown",
            "metadata": {},
            "source": [
                "## Preprocessing"
            ]
        },
        {
            "cell_type": "markdown",
            "metadata": {},
            "source": [
                "### Menggabungkan Dataset Berdasarkan Sumbernya Masing-Masing"
            ]
        },
        {
            "cell_type": "markdown",
            "metadata": {},
            "source": [
                "#### Menggabungkan Dataset Ulasan Aplikasi IKD di Play Store"
            ]
        },
        {
            "cell_type": "code",
            "execution_count": null,
            "metadata": {},
            "outputs": [],
            "source": [
                "# menggabungkan semua dataset ulasan aplikasi IKD di Play Store\n",
                "\n",
                "df_ikd_play_store = pd.concat([\n",
                "    df_ikd_play_store_maret,\n",
                "    df_ikd_play_store_mei,\n",
                "    df_ikd_play_store_juni\n",
                "]).reset_index()\n",
                "df_ikd_play_store.drop(columns=['index'], inplace=True)\n",
                "df_ikd_play_store"
            ]
        },
        {
            "cell_type": "code",
            "execution_count": null,
            "metadata": {},
            "outputs": [],
            "source": [
                "# menghapus data duplikat pada dataset ulasan aplikasi IKD di Play Store\n",
                "\n",
                "print(f\"Jumlah data duplikat setelah proses penggabungan = {df_ikd_play_store.duplicated().sum()}\")\n",
                "df_ikd_play_store.drop_duplicates(inplace=True)\n",
                "print(f\"Jumlah data duplikat saat ini = {df_ikd_play_store.duplicated().sum()}\")"
            ]
        },
        {
            "cell_type": "code",
            "execution_count": null,
            "metadata": {},
            "outputs": [],
            "source": [
                "print(f\"Total data yang diambil dari Play Store yaitu {len(df_ikd_play_store)} data\")"
            ]
        },
        {
            "cell_type": "code",
            "execution_count": null,
            "metadata": {},
            "outputs": [],
            "source": [
                "# menampilkan dataset ulasan aplikasi IKD di Play Store\n",
                "\n",
                "df_ikd_play_store"
            ]
        },
        {
            "cell_type": "markdown",
            "metadata": {},
            "source": [
                "#### Menggabungkan Dataset Ulasan Aplikasi IKD di App Store"
            ]
        },
        {
            "cell_type": "code",
            "execution_count": null,
            "metadata": {},
            "outputs": [],
            "source": [
                "# menggabungkan semua dataset ulasan aplikasi IKD di App Store\n",
                "\n",
                "df_ikd_app_store = pd.concat([\n",
                "    df_ikd_app_store_april,\n",
                "    df_ikd_app_store_mei,\n",
                "    df_ikd_app_store_juni\n",
                "]).reset_index()\n",
                "df_ikd_app_store.drop(columns=['index'], inplace=True)\n",
                "df_ikd_app_store"
            ]
        },
        {
            "cell_type": "code",
            "execution_count": null,
            "metadata": {},
            "outputs": [],
            "source": [
                "# menghapus data duplikat pada dataset ulasan aplikasi IKD di App Store\n",
                "\n",
                "print(f\"Jumlah data duplikat setelah proses penggabungan = {df_ikd_app_store.duplicated().sum()}\")\n",
                "df_ikd_app_store.drop_duplicates(inplace=True)\n",
                "print(f\"Jumlah data duplikat saat ini = {df_ikd_app_store.duplicated().sum()}\")"
            ]
        },
        {
            "cell_type": "code",
            "execution_count": null,
            "metadata": {},
            "outputs": [],
            "source": [
                "print(f\"Total data yang diambil dari App Store yaitu {len(df_ikd_app_store)} data\")"
            ]
        },
        {
            "cell_type": "code",
            "execution_count": null,
            "metadata": {},
            "outputs": [],
            "source": [
                "# menampilkan dataset ulasan aplikasi IKD di App Store\n",
                "\n",
                "df_ikd_app_store"
            ]
        },
        {
            "cell_type": "markdown",
            "metadata": {},
            "source": [
                "### Feature Selection"
            ]
        },
        {
            "cell_type": "code",
            "execution_count": 16,
            "metadata": {},
            "outputs": [],
            "source": [
                "# menghapus atribut-atribut yang tidak digunakan\n",
                "\n",
                "df_ikd_play_store.drop(columns=['reviewId', 'userName', 'userImage', 'thumbsUpCount', 'reviewCreatedVersion', 'at', 'replyContent', 'repliedAt', 'appVersion'], inplace=True)\n",
                "df_ikd_app_store.drop(columns=['date', 'isEdited', 'userName', 'title'], inplace=True)"
            ]
        },
        {
            "cell_type": "code",
            "execution_count": 17,
            "metadata": {},
            "outputs": [],
            "source": [
                "# mengubah nama atribut\n",
                "\n",
                "df_ikd_play_store.rename(columns={'content':'review','score':'sentiment'}, inplace=True)\n",
                "df_ikd_app_store.rename(columns={'rating':'sentiment'}, inplace=True)"
            ]
        },
        {
            "cell_type": "markdown",
            "metadata": {},
            "source": [
                "### Menggabungkan Dataset Dari Kedua Sumber"
            ]
        },
        {
            "cell_type": "code",
            "execution_count": null,
            "metadata": {},
            "outputs": [],
            "source": [
                "# menggabungkan semua dataset menjadi satu dataframe\n",
                "\n",
                "df = pd.concat([\n",
                "    df_ikd_play_store,\n",
                "    df_ikd_app_store\n",
                "    ]).reset_index()\n",
                "df.drop(columns=['index'], inplace=True)\n",
                "df"
            ]
        },
        {
            "cell_type": "code",
            "execution_count": null,
            "metadata": {},
            "outputs": [],
            "source": [
                "# melihat jumlah data duplikat\n",
                "\n",
                "print(f\"Jumlah data duplikat setelah proses penggabungan = {df.duplicated().sum()}\")\n",
                "df.drop_duplicates(inplace=True)\n",
                "print(f\"Jumlah data duplikat saat ini = {df.duplicated().sum()}\")"
            ]
        },
        {
            "cell_type": "code",
            "execution_count": null,
            "metadata": {},
            "outputs": [],
            "source": [
                "# melihat jumlah data\n",
                "\n",
                "print(f\"Total data setelah kedua dataset digabungkan yaitu {len(df)} data\")"
            ]
        },
        {
            "cell_type": "code",
            "execution_count": null,
            "metadata": {},
            "outputs": [],
            "source": [
                "# reset index\n",
                "\n",
                "df.reset_index(inplace=True)\n",
                "df.drop(columns=['index'], inplace=True)\n",
                "df"
            ]
        },
        {
            "cell_type": "code",
            "execution_count": 22,
            "metadata": {},
            "outputs": [],
            "source": [
                "# set opsi pandas agar bisa menampilkan full data\n",
                "\n",
                "pd.set_option(\"display.max_colwidth\", None)"
            ]
        },
        {
            "cell_type": "markdown",
            "metadata": {},
            "source": [
                "### Pelabelan Data"
            ]
        },
        {
            "cell_type": "code",
            "execution_count": null,
            "metadata": {},
            "outputs": [],
            "source": [
                "# mengelompokan sentimen berdasarkan jumlah rating\n",
                "\n",
                "print(\"Rating 4 dan 5 akan dikelompokan ke sentimen positif sedangkan rating 1,2, dan 3 akan dikelompokan ke sentimen negatif\")\n",
                "print(\"0 = Negatif\")\n",
                "print(\"1 = Positif\")\n",
                "\n",
                "df.replace([1,2,3], 0, inplace=True)\n",
                "df.replace([4,5], 1, inplace=True)\n",
                "df"
            ]
        },
        {
            "cell_type": "code",
            "execution_count": null,
            "metadata": {},
            "outputs": [],
            "source": [
                "# menampilkan informasi dari dataframe\n",
                "\n",
                "df.info()"
            ]
        },
        {
            "cell_type": "markdown",
            "metadata": {},
            "source": [
                "### Case Folding"
            ]
        },
        {
            "cell_type": "code",
            "execution_count": null,
            "metadata": {},
            "outputs": [],
            "source": [
                "# mengubah semua huruf menjadi lower case\n",
                "\n",
                "def lower(text):\n",
                "    text = text.lower()\n",
                "    return text\n",
                "\n",
                "df['review'] = df['review'].apply(lower)\n",
                "df"
            ]
        },
        {
            "cell_type": "code",
            "execution_count": null,
            "metadata": {},
            "outputs": [],
            "source": [
                "# menghapus tanda baca dan angka\n",
                "\n",
                "def remove_punctuation_and_number(text):\n",
                "    text = text.translate(str.maketrans(\"\",\"\",string.punctuation + string.digits))\n",
                "    text = text.translate(str.maketrans('','','\"'))\n",
                "    return text\n",
                "\n",
                "df['review'] = df['review'].apply(remove_punctuation_and_number)\n",
                "df"
            ]
        },
        {
            "cell_type": "code",
            "execution_count": null,
            "metadata": {},
            "outputs": [],
            "source": [
                "# menghapus emoji\n",
                "\n",
                "def remove_emoji(text):\n",
                "    correct = re.compile(pattern=\"[\"\n",
                "        u\"\\U0001F600-\\U0001F64F\"  # emoticons\n",
                "        u\"\\U0001F300-\\U0001F5FF\"  # symbols & pictographs\n",
                "        u\"\\U0001F680-\\U0001F6FF\"  # transport & map symbols\n",
                "        u\"\\U0001F1E0-\\U0001F1FF\"  # flags (iOS)\n",
                "                           \"]+\", flags = re.UNICODE)\n",
                "    return correct.sub(r'',text)\n",
                "\n",
                "df['review'] = df['review'].apply(remove_emoji)\n",
                "df"
            ]
        },
        {
            "cell_type": "code",
            "execution_count": null,
            "metadata": {},
            "outputs": [],
            "source": [
                "# menghapus whitespace pada teks\n",
                "\n",
                "def remove_whitespace(text):\n",
                "    correct = str(text)\n",
                "    correct = re.sub(r\"//t\",r\"\\t\", correct)\n",
                "    correct = re.sub(r\"( )\\1+\",r\"\\1\", correct)\n",
                "    correct = re.sub(r\"(\\n)\\1+\",r\"\\1\", correct)\n",
                "    correct = re.sub(r\"(\\r)\\1+\",r\"\\1\", correct)\n",
                "    correct = re.sub(r\"(\\t)\\1+\",r\"\\1\", correct)\n",
                "    correct = re.sub(r\"\\n\",\" \",correct)\n",
                "    return correct.strip()\n",
                "\n",
                "df['review'] = df['review'].apply(remove_whitespace)\n",
                "df"
            ]
        },
        {
            "cell_type": "markdown",
            "metadata": {},
            "source": [
                "### Tokenizing"
            ]
        },
        {
            "cell_type": "code",
            "execution_count": null,
            "metadata": {},
            "outputs": [],
            "source": [
                "# text tokenizing\n",
                "\n",
                "def tokenizing(text):\n",
                "    text = word_tokenize(text)\n",
                "    return text\n",
                "\n",
                "df['review'] = df['review'].apply(tokenizing)\n",
                "df"
            ]
        },
        {
            "cell_type": "markdown",
            "metadata": {},
            "source": [
                "### Menghapus Stop Words"
            ]
        },
        {
            "cell_type": "code",
            "execution_count": null,
            "metadata": {},
            "outputs": [],
            "source": [
                "# menghapus stop words dengan Sastrawi\n",
                "\n",
                "factory = StopWordRemoverFactory()\n",
                "stopword_sastrawi = factory.get_stop_words()\n",
                "\n",
                "def remove_stopwords_with_sastrawi(text):\n",
                "    text = [word for word in text if word not in stopword_sastrawi]\n",
                "    return text\n",
                "\n",
                "df['review'] = df['review'].apply(remove_stopwords_with_sastrawi)\n",
                "df"
            ]
        },
        {
            "cell_type": "markdown",
            "metadata": {},
            "source": [
                "### Stemming"
            ]
        },
        {
            "cell_type": "code",
            "execution_count": null,
            "metadata": {},
            "outputs": [],
            "source": [
                "# melakukan stemming dengan Sastrawi\n",
                "\n",
                "factory = StemmerFactory()\n",
                "stemmer = factory.create_stemmer()\n",
                "\n",
                "def stemming(text):\n",
                "    text = [stemmer.stem(token) for token in text]\n",
                "    return text\n",
                "\n",
                "df['review'] = df['review'].apply(stemming)\n",
                "df"
            ]
        },
        {
            "cell_type": "markdown",
            "metadata": {},
            "source": [
                "### Perbaikan Ejaan Kata"
            ]
        },
        {
            "cell_type": "code",
            "execution_count": null,
            "metadata": {},
            "outputs": [],
            "source": [
                "# Perbaikan ejaan kata\n",
                "\n",
                "normalized_word = pd.read_csv(\"../../corpus/kamus-alay/kamus-alay.csv\")\n",
                "\n",
                "normalized_word_dict = {}\n",
                "\n",
                "for index, row in normalized_word.iterrows():\n",
                "    if row[0] not in normalized_word_dict:\n",
                "        normalized_word_dict[row[0]] = row[1]\n",
                "\n",
                "def normalized_term(document):\n",
                "    return [normalized_word_dict[term] if term in normalized_word_dict else term for term in document]\n",
                "\n",
                "df['review'] = df['review'].apply(normalized_term)\n",
                "df"
            ]
        },
        {
            "cell_type": "markdown",
            "metadata": {},
            "source": [
                "### Menghapus Stop Words"
            ]
        },
        {
            "cell_type": "code",
            "execution_count": null,
            "metadata": {},
            "outputs": [],
            "source": [
                "# menghapus stop words kembali dengan Sastrawi\n",
                "\n",
                "df['review'] = df['review'].apply(remove_stopwords_with_sastrawi)\n",
                "df"
            ]
        },
        {
            "cell_type": "markdown",
            "metadata": {},
            "source": [
                "### Stemming"
            ]
        },
        {
            "cell_type": "code",
            "execution_count": null,
            "metadata": {},
            "outputs": [],
            "source": [
                "# melakukan stemming ulang dengan Sastrawi\n",
                "\n",
                "df['review'] = df['review'].apply(stemming)\n",
                "df"
            ]
        },
        {
            "cell_type": "markdown",
            "metadata": {},
            "source": [
                "## WordCloud"
            ]
        },
        {
            "cell_type": "code",
            "execution_count": null,
            "metadata": {},
            "outputs": [],
            "source": [
                "# Menggabungkan kata-kata menjadi satu kalimat per baris\n",
                "\n",
                "corpus = []\n",
                "\n",
                "for i in range(len(df['review'])):\n",
                "    word = df['review'][i]\n",
                "    row = ' '.join(word)\n",
                "    corpus.append(row)\n",
                "\n",
                "df['review'] = corpus\n",
                "df"
            ]
        },
        {
            "cell_type": "code",
            "execution_count": null,
            "metadata": {},
            "outputs": [],
            "source": [
                "# menampilkan frekuensi kemunculan kata menggunakan wordcloud\n",
                "\n",
                "words = \" \".join(review for review in df['review'])\n",
                "print(f'Jumlah kata pada dataset adalah {len(words)} kata')\n",
                "\n",
                "wordcloud = WordCloud(background_color='white').generate(text=words)\n",
                "\n",
                "plt.imshow(wordcloud, interpolation='bilinear')\n",
                "plt.axis('off')\n",
                "plt.show()"
            ]
        },
        {
            "cell_type": "markdown",
            "metadata": {},
            "source": [
                "### WordCloud Sentimen Positif"
            ]
        },
        {
            "cell_type": "code",
            "execution_count": null,
            "metadata": {},
            "outputs": [],
            "source": [
                "# memisahkan dataframe untuk sentimen positif\n",
                "\n",
                "df_positive = df.loc[df['sentiment'] == 1].reset_index()\n",
                "df_positive = df_positive.drop(columns='index')\n",
                "df_positive"
            ]
        },
        {
            "cell_type": "code",
            "execution_count": null,
            "metadata": {},
            "outputs": [],
            "source": [
                "# menampilkan wordcloud untuk sentiment positif\n",
                "\n",
                "positive = \" \".join(review for review in df_positive['review'])\n",
                "print(f'Jumlah kata pada sentimen positif adalah {len(positive)} kata')\n",
                "\n",
                "wordcloud = WordCloud(background_color='white').generate(text=positive)\n",
                "\n",
                "plt.imshow(wordcloud, interpolation='bilinear')\n",
                "plt.axis('off')\n",
                "plt.show()"
            ]
        },
        {
            "cell_type": "markdown",
            "metadata": {},
            "source": [
                "### WordCloud Sentimen Negatif"
            ]
        },
        {
            "cell_type": "code",
            "execution_count": null,
            "metadata": {},
            "outputs": [],
            "source": [
                "# memisahkan dataframe untuk sentimen negatif\n",
                "\n",
                "df_negative = df.loc[df['sentiment'] == 0].reset_index()\n",
                "df_negative = df_negative.drop(columns='index')\n",
                "df_negative"
            ]
        },
        {
            "cell_type": "code",
            "execution_count": null,
            "metadata": {},
            "outputs": [],
            "source": [
                "# menampilkan wordcloud untuk sentimen negatif\n",
                "\n",
                "negative = \" \".join(review for review in df_negative['review'])\n",
                "print(f'Jumlah kata pada sentimen negatif adalah {len(negative)} kata')\n",
                "\n",
                "wordcloud = WordCloud(background_color='white').generate(text=negative)\n",
                "\n",
                "plt.imshow(wordcloud, interpolation='bilinear')\n",
                "plt.axis('off')\n",
                "plt.show()"
            ]
        },
        {
            "cell_type": "markdown",
            "metadata": {},
            "source": [
                "## Feature dan Label"
            ]
        },
        {
            "cell_type": "code",
            "execution_count": 41,
            "metadata": {},
            "outputs": [],
            "source": [
                "# membagi atribut menjadi features (X) dan label (y)\n",
                "\n",
                "X = df['review']\n",
                "y = df['sentiment']"
            ]
        },
        {
            "cell_type": "code",
            "execution_count": null,
            "metadata": {},
            "outputs": [],
            "source": [
                "# menampilkan grafik jumlah data pada kolom sentiment\n",
                "\n",
                "print('Keterangan:')\n",
                "print('0 = Negatif')\n",
                "print('1 = Positif')\n",
                "\n",
                "y.value_counts().plot(kind='bar')\n",
                "plt.title('Jumlah Data Antar Kelas Sebelum Diseimbangkan')\n",
                "plt.text(x=-0.075,y=y.value_counts()[0],s=y.value_counts()[0])\n",
                "plt.text(x=0.925,y=y.value_counts()[1],s=y.value_counts()[1])\n",
                "plt.show()"
            ]
        },
        {
            "cell_type": "markdown",
            "metadata": {},
            "source": [
                "## Pembobotan Kata Menggunakan TF-IDF"
            ]
        },
        {
            "cell_type": "code",
            "execution_count": null,
            "metadata": {},
            "outputs": [],
            "source": [
                "# melakukan pembobotan kata dengan TF-IDF\n",
                "\n",
                "tfidf = TfidfVectorizer()\n",
                "X_tfidf = tfidf.fit_transform(X)\n",
                "X_tfidf"
            ]
        },
        {
            "cell_type": "code",
            "execution_count": null,
            "metadata": {},
            "outputs": [],
            "source": [
                "# menampilkan hasil tf-idf pada baris data pertama\n",
                "\n",
                "first_vector = X_tfidf[0]\n",
                "df_tfidf_first = pd.DataFrame(first_vector.T.todense(), index=tfidf.get_feature_names_out(), columns=['tfidf'])\n",
                "df_tfidf_first.sort_values(by=['tfidf'], ascending=False).head(10)"
            ]
        },
        {
            "cell_type": "markdown",
            "metadata": {},
            "source": [
                "## Menyeimbangkan Data Menggunakan SMOTE"
            ]
        },
        {
            "cell_type": "code",
            "execution_count": 45,
            "metadata": {},
            "outputs": [],
            "source": [
                "# menyeimbangkan data berdasarkan atribut sentiment atau label (y)\n",
                "\n",
                "oversampler = SMOTE()\n",
                "X_tfidf_resampled, y_resampled = oversampler.fit_resample(X_tfidf, y)"
            ]
        },
        {
            "cell_type": "code",
            "execution_count": null,
            "metadata": {},
            "outputs": [],
            "source": [
                "# menampilkan kembali grafik jumlah data pada kolom sentiment\n",
                "\n",
                "print('Keterangan:')\n",
                "print('0 = Negatif')\n",
                "print('1 = Positif')\n",
                "\n",
                "y_resampled.value_counts().plot(kind='bar')\n",
                "plt.title('Jumlah Data Antar Kelas Sesudah Diseimbangkan')\n",
                "plt.text(x=-0.075,y=y_resampled.value_counts()[0],s=y_resampled.value_counts()[0])\n",
                "plt.text(x=0.925,y=y_resampled.value_counts()[1],s=y_resampled.value_counts()[1])\n",
                "plt.show()"
            ]
        },
        {
            "cell_type": "markdown",
            "metadata": {},
            "source": [
                "## Pelatihan Model"
            ]
        },
        {
            "cell_type": "code",
            "execution_count": 47,
            "metadata": {},
            "outputs": [],
            "source": [
                "# membagi data menjadi data latih (training data) dan data uji (test data)\n",
                "\n",
                "X_train, X_test, y_train, y_test = train_test_split(X_tfidf_resampled, y_resampled, test_size=0.2, random_state=42)"
            ]
        },
        {
            "cell_type": "code",
            "execution_count": 48,
            "metadata": {},
            "outputs": [],
            "source": [
                "# inisiasi model machine learning\n",
                "\n",
                "model = SVC()"
            ]
        },
        {
            "cell_type": "code",
            "execution_count": null,
            "metadata": {},
            "outputs": [],
            "source": [
                "# melatih model\n",
                "\n",
                "model.fit(X_train, y_train)"
            ]
        },
        {
            "cell_type": "markdown",
            "metadata": {},
            "source": [
                "## Evaluasi"
            ]
        },
        {
            "cell_type": "code",
            "execution_count": null,
            "metadata": {},
            "outputs": [],
            "source": [
                "# memeriksa overfit/underfit\n",
                "\n",
                "training_accuracy = accuracy_score(y_train, model.predict(X_train))\n",
                "test_accuracy = accuracy_score(y_test, model.predict(X_test))\n",
                "print('Training accuracy :', training_accuracy)\n",
                "print('Test accuracy :', test_accuracy)\n",
                "print('Difference :', training_accuracy - test_accuracy)"
            ]
        },
        {
            "cell_type": "code",
            "execution_count": null,
            "metadata": {},
            "outputs": [],
            "source": [
                "# menampilkan confusion matrix\n",
                "\n",
                "y_pred = model.predict(X_test)\n",
                "cm = confusion_matrix(y_test, y_pred)\n",
                "disp = ConfusionMatrixDisplay(confusion_matrix=cm, display_labels=model.classes_)\n",
                "disp.plot()\n",
                "plt.show()"
            ]
        },
        {
            "cell_type": "code",
            "execution_count": null,
            "metadata": {},
            "outputs": [],
            "source": [
                "# melihat hasil laporan klasifikasi\n",
                "\n",
                "print(classification_report(y_test, y_pred, zero_division=0, digits=4))"
            ]
        }
    ],
    "metadata": {
        "kernelspec": {
            "display_name": "Python 3",
            "language": "python",
            "name": "python3"
        },
        "language_info": {
            "codemirror_mode": {
                "name": "ipython",
                "version": 3
            },
            "file_extension": ".py",
            "mimetype": "text/x-python",
            "name": "python",
            "nbconvert_exporter": "python",
            "pygments_lexer": "ipython3",
            "version": "3.12.8"
        }
    },
    "nbformat": 4,
    "nbformat_minor": 2
}